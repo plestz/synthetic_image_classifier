{
 "cells": [
  {
   "cell_type": "code",
   "execution_count": 31,
   "metadata": {},
   "outputs": [
    {
     "name": "stdout",
     "output_type": "stream",
     "text": [
      "The autoreload extension is already loaded. To reload it, use:\n",
      "  %reload_ext autoreload\n"
     ]
    }
   ],
   "source": [
    "%load_ext autoreload\n",
    "%autoreload 2"
   ]
  },
  {
   "cell_type": "code",
   "execution_count": 32,
   "metadata": {},
   "outputs": [],
   "source": [
    "import torch\n",
    "from torch import nn\n",
    "from torch.utils.data import DataLoader\n",
    "\n",
    "import torchvision\n",
    "from torchvision.transforms import ToTensor, Compose, Normalize\n",
    "\n",
    "import numpy as np\n",
    "import pandas as pd\n",
    "import matplotlib.pyplot as plt\n",
    "\n",
    "from dataset import ImageDataset, DSubset, Label, get_channel_means_stdevs\n",
    "\n",
    "import pickle"
   ]
  },
  {
   "cell_type": "code",
   "execution_count": 33,
   "metadata": {},
   "outputs": [],
   "source": [
    "with open('../results/channel_training_statistics.pkl', 'rb') as f:\n",
    "    training_channel_means, training_channel_stdevs = pickle.load(f)\n",
    "    \n",
    "tf = Compose([\n",
    "    Normalize(training_channel_means, training_channel_stdevs)\n",
    "])\n",
    "\n",
    "label_type = Label.OBJECT\n",
    "\n",
    "train_dataset = ImageDataset(DSubset.TRAIN, label_type, transform = tf)\n",
    "test_dataset = ImageDataset(DSubset.TEST, label_type, transform = tf)"
   ]
  },
  {
   "cell_type": "code",
   "execution_count": 38,
   "metadata": {},
   "outputs": [],
   "source": [
    "train_dataloader = DataLoader(train_dataset, batch_size = 100, num_workers = 8)\n",
    "\n",
    "num_channels = 3\n",
    "train_channel_means, train_channel_stdevs = get_channel_means_stdevs(train_dataloader, num_channels = num_channels, verbose = False)\n",
    "\n",
    "# Verify successful standardization functionality: mean 0 and standard deviation 1 on training set\n",
    "assert np.allclose(np.array(train_channel_means), np.zeros(num_channels), atol = 1e-5)\n",
    "assert np.allclose(np.array(train_channel_stdevs), np.ones(num_channels), atol = 1e-5)"
   ]
  },
  {
   "cell_type": "code",
   "execution_count": 39,
   "metadata": {},
   "outputs": [],
   "source": [
    "labels_map = {\n",
    "    1: 'Airplane',\n",
    "    2: 'Automobile',\n",
    "    3: 'Bird',\n",
    "    4: 'Cat',\n",
    "    5: 'Deer',\n",
    "    6: 'Dog',\n",
    "    7: 'Frog',\n",
    "    8: 'Horse',\n",
    "    9: 'Ship',\n",
    "    10: 'Truck'\n",
    "}"
   ]
  }
 ],
 "metadata": {
  "kernelspec": {
   "display_name": "dev",
   "language": "python",
   "name": "python3"
  },
  "language_info": {
   "codemirror_mode": {
    "name": "ipython",
    "version": 3
   },
   "file_extension": ".py",
   "mimetype": "text/x-python",
   "name": "python",
   "nbconvert_exporter": "python",
   "pygments_lexer": "ipython3",
   "version": "3.9.21"
  }
 },
 "nbformat": 4,
 "nbformat_minor": 2
}
